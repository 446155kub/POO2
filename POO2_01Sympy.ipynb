{
  "cells": [
    {
      "cell_type": "markdown",
      "metadata": {
        "id": "1MfgMxTL7VPv"
      },
      "source": [
        "# SymPy - Álgebra en Python"
      ]
    },
    {
      "cell_type": "code",
      "execution_count": 1,
      "metadata": {
        "id": "N1WnD-ee7VP9"
      },
      "outputs": [],
      "source": [
        "from sympy import *  #Importar todas las funciones."
      ]
    },
    {
      "cell_type": "markdown",
      "metadata": {
        "id": "LZxRVY_B7VP_"
      },
      "source": [
        "## Symbolic variables"
      ]
    },
    {
      "cell_type": "markdown",
      "metadata": {
        "id": "_5ppRUkn7VQA"
      },
      "source": [
        "En SymPy necesitamos crear símbolos para las variables con las que queremos trabajar. Podemos crear un nuevo símbolo usando la clase`Symbol`:"
      ]
    },
    {
      "cell_type": "code",
      "execution_count": 35,
      "metadata": {
        "id": "pWrKucmb7VQA",
        "colab": {
          "base_uri": "https://localhost:8080/",
          "height": 38
        },
        "outputId": "1c35dace-cb49-425b-c2d7-cd34c7dac574"
      },
      "outputs": [
        {
          "output_type": "execute_result",
          "data": {
            "text/plain": [
              "x"
            ],
            "text/latex": "$\\displaystyle x$"
          },
          "metadata": {},
          "execution_count": 35
        }
      ],
      "source": [
        "x = Symbol('x') #un conjunto de symbolos\n",
        "x"
      ]
    },
    {
      "cell_type": "code",
      "execution_count": 34,
      "metadata": {
        "id": "XhMUCphO7VQD",
        "colab": {
          "base_uri": "https://localhost:8080/",
          "height": 38
        },
        "outputId": "276e2e7f-9f56-44b7-cd19-16db692659a2"
      },
      "outputs": [
        {
          "output_type": "execute_result",
          "data": {
            "text/plain": [
              "a"
            ],
            "text/latex": "$\\displaystyle a$"
          },
          "metadata": {},
          "execution_count": 34
        }
      ],
      "source": [
        "a, b, c = symbols(\"a, b, c\") #muchos conjuntos de symbolos\n",
        "a\n",
        "\n"
      ]
    },
    {
      "cell_type": "markdown",
      "metadata": {
        "id": "_FFT6qe47VQG"
      },
      "source": [
        "Podemos agregar suposiciones a los símbolos cuando los creamos:"
      ]
    },
    {
      "cell_type": "code",
      "execution_count": 37,
      "metadata": {
        "id": "HLZrwFQ47VQH",
        "colab": {
          "base_uri": "https://localhost:8080/",
          "height": 38
        },
        "outputId": "b9ba914e-f888-4ed2-841b-6c7e0a202f33"
      },
      "outputs": [
        {
          "output_type": "execute_result",
          "data": {
            "text/plain": [
              "x"
            ],
            "text/latex": "$\\displaystyle x$"
          },
          "metadata": {},
          "execution_count": 37
        }
      ],
      "source": [
        "x = Symbol('x', real=True)\n",
        "x"
      ]
    },
    {
      "cell_type": "code",
      "execution_count": 38,
      "metadata": {
        "id": "SjDqUGMY7VQI",
        "outputId": "08b89659-6e6e-401b-eeb6-823743059597",
        "colab": {
          "base_uri": "https://localhost:8080/"
        }
      },
      "outputs": [
        {
          "output_type": "execute_result",
          "data": {
            "text/plain": [
              "False"
            ]
          },
          "metadata": {},
          "execution_count": 38
        }
      ],
      "source": [
        "x.is_imaginary # x no es imaginario"
      ]
    },
    {
      "cell_type": "code",
      "execution_count": 6,
      "metadata": {
        "id": "4_gvZnR47VQI"
      },
      "outputs": [],
      "source": [
        "x = Symbol('x', positive=True) # x es un numero positivo"
      ]
    },
    {
      "cell_type": "code",
      "execution_count": 7,
      "metadata": {
        "id": "rwLUdZMA7VQJ",
        "outputId": "d19c6492-93fa-459e-e1fe-c0fe56a6ab41",
        "colab": {
          "base_uri": "https://localhost:8080/",
          "height": 37
        }
      },
      "outputs": [
        {
          "output_type": "execute_result",
          "data": {
            "text/plain": [
              "True"
            ],
            "text/latex": "$\\displaystyle \\text{True}$"
          },
          "metadata": {},
          "execution_count": 7
        }
      ],
      "source": [
        "x > 0"
      ]
    },
    {
      "cell_type": "markdown",
      "metadata": {
        "id": "ZrKbynzL7VQq"
      },
      "source": [
        "## Manipulaciones Algebraicas"
      ]
    },
    {
      "cell_type": "markdown",
      "metadata": {
        "id": "AmjqzaBB7VQr"
      },
      "source": [
        "### Expand // factor"
      ]
    },
    {
      "cell_type": "code",
      "execution_count": 39,
      "metadata": {
        "id": "APqtrrkI7VQs",
        "outputId": "4f0e0a37-7253-451f-a2d5-3e343a83fa70",
        "colab": {
          "base_uri": "https://localhost:8080/",
          "height": 38
        }
      },
      "outputs": [
        {
          "output_type": "execute_result",
          "data": {
            "text/plain": [
              "(x + 1)*(x + 2)*(x + 3)"
            ],
            "text/latex": "$\\displaystyle \\left(x + 1\\right) \\left(x + 2\\right) \\left(x + 3\\right)$"
          },
          "metadata": {},
          "execution_count": 39
        }
      ],
      "source": [
        "f1 = (x+1)*(x+2)*(x+3) #Se crea una funcion de esa variable\n",
        "f1"
      ]
    },
    {
      "cell_type": "code",
      "execution_count": 40,
      "metadata": {
        "id": "dx9RlN8g7VQs",
        "outputId": "b4e33e77-f5c0-438b-d02c-c8021db6dda8",
        "colab": {
          "base_uri": "https://localhost:8080/",
          "height": 38
        }
      },
      "outputs": [
        {
          "output_type": "execute_result",
          "data": {
            "text/plain": [
              "x**3 + 6*x**2 + 11*x + 6"
            ],
            "text/latex": "$\\displaystyle x^{3} + 6 x^{2} + 11 x + 6$"
          },
          "metadata": {},
          "execution_count": 40
        }
      ],
      "source": [
        "expand((x+1)*(x+2)*(x+3)) #Expande para desarollar la funcion"
      ]
    },
    {
      "cell_type": "markdown",
      "metadata": {
        "id": "xzH5Kl6M7VQv"
      },
      "source": [
        "Lo opuesto a la expansión del producto es, por supuesto, factorizar. Para factorizar una expresión en SymPy use el `factor`:"
      ]
    },
    {
      "cell_type": "code",
      "execution_count": 41,
      "metadata": {
        "id": "yXNL1rle7VQw",
        "outputId": "2565a17d-2ee9-4c86-c8ef-8fdb139d7b57",
        "colab": {
          "base_uri": "https://localhost:8080/",
          "height": 38
        }
      },
      "outputs": [
        {
          "output_type": "execute_result",
          "data": {
            "text/plain": [
              "(x + 1)*(x + 2)*(x + 3)"
            ],
            "text/latex": "$\\displaystyle \\left(x + 1\\right) \\left(x + 2\\right) \\left(x + 3\\right)$"
          },
          "metadata": {},
          "execution_count": 41
        }
      ],
      "source": [
        "factor(x**3 + 6 * x**2 + 11*x + 6) #Factoriza la funcion"
      ]
    },
    {
      "cell_type": "markdown",
      "metadata": {
        "id": "ukuul-xc7VQw"
      },
      "source": [
        "### Simplify"
      ]
    },
    {
      "cell_type": "code",
      "execution_count": 42,
      "metadata": {
        "id": "rYsLwwSl7VQx",
        "outputId": "8f68897e-c197-4fbf-faba-c083c958e71d",
        "colab": {
          "base_uri": "https://localhost:8080/",
          "height": 38
        }
      },
      "outputs": [
        {
          "output_type": "execute_result",
          "data": {
            "text/plain": [
              "(x + 1)*(x + 2)*(x + 3)"
            ],
            "text/latex": "$\\displaystyle \\left(x + 1\\right) \\left(x + 2\\right) \\left(x + 3\\right)$"
          },
          "metadata": {},
          "execution_count": 42
        }
      ],
      "source": [
        "simplify((x+1)*(x+2)*(x+3))"
      ]
    },
    {
      "cell_type": "code",
      "execution_count": 43,
      "metadata": {
        "id": "NpPlwjUv7VQy",
        "outputId": "5404bf38-755a-408e-9b57-a1921407bbd0",
        "colab": {
          "base_uri": "https://localhost:8080/",
          "height": 37
        }
      },
      "outputs": [
        {
          "output_type": "execute_result",
          "data": {
            "text/plain": [
              "1"
            ],
            "text/latex": "$\\displaystyle 1$"
          },
          "metadata": {},
          "execution_count": 43
        }
      ],
      "source": [
        "simplify(sin(a)**2 + cos(a)**2)"
      ]
    },
    {
      "cell_type": "code",
      "execution_count": 44,
      "metadata": {
        "id": "BWvw5Jhj7VQz",
        "outputId": "3fa80e01-2ca3-425a-bfe7-efa7142a468f",
        "colab": {
          "base_uri": "https://localhost:8080/",
          "height": 55
        }
      },
      "outputs": [
        {
          "output_type": "execute_result",
          "data": {
            "text/plain": [
              "1/tan(x)"
            ],
            "text/latex": "$\\displaystyle \\frac{1}{\\tan{\\left(x \\right)}}$"
          },
          "metadata": {},
          "execution_count": 44
        }
      ],
      "source": [
        "simplify(cos(x)/sin(x))  #Simplifica la funcion"
      ]
    },
    {
      "cell_type": "markdown",
      "metadata": {
        "id": "4PXwQojE7VQz"
      },
      "source": [
        "### apart // together"
      ]
    },
    {
      "cell_type": "markdown",
      "metadata": {
        "id": "vcRxJ6tG7VQ0"
      },
      "source": [
        "Para manipular expresiones simbólicas de fracciones, usamos `apart` y `together`:"
      ]
    },
    {
      "cell_type": "code",
      "execution_count": 45,
      "metadata": {
        "id": "hCDJ9NAu7VQ0"
      },
      "outputs": [],
      "source": [
        "f1 = 1/((a+1)*(a+2))"
      ]
    },
    {
      "cell_type": "code",
      "execution_count": 15,
      "metadata": {
        "id": "TWStHNqC7VQ1",
        "outputId": "054a7acf-3806-49d8-f3c4-90379f1df733",
        "colab": {
          "base_uri": "https://localhost:8080/",
          "height": 55
        }
      },
      "outputs": [
        {
          "output_type": "execute_result",
          "data": {
            "text/plain": [
              "1/((a + 1)*(a + 2))"
            ],
            "text/latex": "$\\displaystyle \\frac{1}{\\left(a + 1\\right) \\left(a + 2\\right)}$"
          },
          "metadata": {},
          "execution_count": 15
        }
      ],
      "source": [
        "f1"
      ]
    },
    {
      "cell_type": "code",
      "execution_count": 16,
      "metadata": {
        "id": "8sQ3v9ZE7VQ3",
        "outputId": "ee533c69-b9a0-419a-9b37-ff7bcaec368b",
        "colab": {
          "base_uri": "https://localhost:8080/",
          "height": 52
        }
      },
      "outputs": [
        {
          "output_type": "execute_result",
          "data": {
            "text/plain": [
              "-1/(a + 2) + 1/(a + 1)"
            ],
            "text/latex": "$\\displaystyle - \\frac{1}{a + 2} + \\frac{1}{a + 1}$"
          },
          "metadata": {},
          "execution_count": 16
        }
      ],
      "source": [
        "apart(f1)"
      ]
    },
    {
      "cell_type": "code",
      "execution_count": 17,
      "metadata": {
        "id": "Y3Ugzn6K7VQ3"
      },
      "outputs": [],
      "source": [
        "f2 = 1/(a+2) + 1/(a+3)"
      ]
    },
    {
      "cell_type": "code",
      "execution_count": 18,
      "metadata": {
        "id": "xiPLgN3N7VQ4",
        "outputId": "0034ef7b-9ce9-4480-cf50-032d9affafa5",
        "colab": {
          "base_uri": "https://localhost:8080/",
          "height": 52
        }
      },
      "outputs": [
        {
          "output_type": "execute_result",
          "data": {
            "text/plain": [
              "1/(a + 3) + 1/(a + 2)"
            ],
            "text/latex": "$\\displaystyle \\frac{1}{a + 3} + \\frac{1}{a + 2}$"
          },
          "metadata": {},
          "execution_count": 18
        }
      ],
      "source": [
        "f2"
      ]
    },
    {
      "cell_type": "code",
      "execution_count": 19,
      "metadata": {
        "id": "j67nZJKE7VQ5",
        "outputId": "71f1774d-9760-4466-9470-b879be0646eb",
        "colab": {
          "base_uri": "https://localhost:8080/",
          "height": 55
        }
      },
      "outputs": [
        {
          "output_type": "execute_result",
          "data": {
            "text/plain": [
              "(2*a + 5)/((a + 2)*(a + 3))"
            ],
            "text/latex": "$\\displaystyle \\frac{2 a + 5}{\\left(a + 2\\right) \\left(a + 3\\right)}$"
          },
          "metadata": {},
          "execution_count": 19
        }
      ],
      "source": [
        "together(f2)"
      ]
    },
    {
      "cell_type": "markdown",
      "metadata": {
        "id": "Ruoyngry7VQ6"
      },
      "source": [
        "## Algo de cálculo"
      ]
    },
    {
      "cell_type": "markdown",
      "metadata": {
        "id": "f6mNvbTb7VQ7"
      },
      "source": [
        "### Diferenciación"
      ]
    },
    {
      "cell_type": "markdown",
      "metadata": {
        "id": "r9fjw1S27VQ7"
      },
      "source": [
        "Se usa `diff`. El primer argumento es la expresión de la cual tomar la derivada, y el segundo argumento es el símbolo por el cual tomar la derivada.:"
      ]
    },
    {
      "cell_type": "code",
      "execution_count": 20,
      "metadata": {
        "id": "A0GalJVt7VRB"
      },
      "outputs": [],
      "source": [
        "x, y, z = symbols(\"x,y,z\")"
      ]
    },
    {
      "cell_type": "code",
      "execution_count": 47,
      "metadata": {
        "id": "NcIX0XfS7VRB",
        "colab": {
          "base_uri": "https://localhost:8080/",
          "height": 38
        },
        "outputId": "66446676-6707-48f1-daa6-7966024cea5b"
      },
      "outputs": [
        {
          "output_type": "execute_result",
          "data": {
            "text/plain": [
              "sin(5*x) + cos(3*x**2)"
            ],
            "text/latex": "$\\displaystyle \\sin{\\left(5 x \\right)} + \\cos{\\left(3 x^{2} \\right)}$"
          },
          "metadata": {},
          "execution_count": 47
        }
      ],
      "source": [
        "f = sin(5*x) + cos(3*x**2) #Se deriva la funcion\n",
        "f"
      ]
    },
    {
      "cell_type": "markdown",
      "metadata": {
        "id": "9IxbDR0w7VRB"
      },
      "source": [
        "$\\frac{d^3f}{dxdy^2}$"
      ]
    },
    {
      "cell_type": "code",
      "execution_count": 53,
      "metadata": {
        "id": "WcLuaiTR7VRB",
        "outputId": "29c49580-8014-4859-e589-7a114b361196",
        "colab": {
          "base_uri": "https://localhost:8080/",
          "height": 38
        }
      },
      "outputs": [
        {
          "output_type": "execute_result",
          "data": {
            "text/plain": [
              "-6*x*sin(3*x**2) + 5*cos(5*x)"
            ],
            "text/latex": "$\\displaystyle - 6 x \\sin{\\left(3 x^{2} \\right)} + 5 \\cos{\\left(5 x \\right)}$"
          },
          "metadata": {},
          "execution_count": 53
        }
      ],
      "source": [
        "diff(f, x, 1) #Deriva la funcion el numero de veces que le pongas."
      ]
    },
    {
      "cell_type": "markdown",
      "metadata": {
        "id": "lakj2lpd7VRC"
      },
      "source": [
        "## Integración"
      ]
    },
    {
      "cell_type": "code",
      "execution_count": 58,
      "metadata": {
        "id": "Ej0O1uJw7VRC",
        "outputId": "05023b94-e812-46f2-8cac-c3d1b66fda96",
        "colab": {
          "base_uri": "https://localhost:8080/",
          "height": 38
        }
      },
      "outputs": [
        {
          "output_type": "execute_result",
          "data": {
            "text/plain": [
              "sin(5*x)"
            ],
            "text/latex": "$\\displaystyle \\sin{\\left(5 x \\right)}$"
          },
          "metadata": {},
          "execution_count": 58
        }
      ],
      "source": [
        "f2=sin(5*x)\n",
        "f2"
      ]
    },
    {
      "cell_type": "code",
      "execution_count": 59,
      "metadata": {
        "id": "c2Nd5uzb7VRD",
        "outputId": "09747976-e08c-44c6-f919-af3f66fe2a3e",
        "colab": {
          "base_uri": "https://localhost:8080/",
          "height": 53
        }
      },
      "outputs": [
        {
          "output_type": "execute_result",
          "data": {
            "text/plain": [
              "-cos(5*x)/5"
            ],
            "text/latex": "$\\displaystyle - \\frac{\\cos{\\left(5 x \\right)}}{5}$"
          },
          "metadata": {},
          "execution_count": 59
        }
      ],
      "source": [
        "integrate(f2, x) #Integra la funcion"
      ]
    },
    {
      "cell_type": "markdown",
      "metadata": {
        "id": "DuDfKVKk7VRE"
      },
      "source": [
        "Al proporcionar límites para la variable de integración podemos evaluar integrales definidas:"
      ]
    },
    {
      "cell_type": "code",
      "execution_count": 64,
      "metadata": {
        "id": "1-NyOPe57VRE",
        "outputId": "999a9178-1b9d-401a-c25d-7d5e43e4a046",
        "colab": {
          "base_uri": "https://localhost:8080/",
          "height": 37
        }
      },
      "outputs": [
        {
          "output_type": "execute_result",
          "data": {
            "text/plain": [
              "0"
            ],
            "text/latex": "$\\displaystyle 0$"
          },
          "metadata": {},
          "execution_count": 64
        }
      ],
      "source": [
        "integrate(f2, (x, -1, 1)) #Integra por intervalos"
      ]
    },
    {
      "cell_type": "markdown",
      "metadata": {
        "id": "YhcKo9Vo7VRF"
      },
      "source": [
        "e integrales impropias"
      ]
    },
    {
      "cell_type": "code",
      "source": [
        "integrate(1/x, (x,1,oo))"
      ],
      "metadata": {
        "colab": {
          "base_uri": "https://localhost:8080/",
          "height": 37
        },
        "id": "t1B_AFiy1eqr",
        "outputId": "0c0da74f-902b-48b7-8fd6-94065c5e68bb"
      },
      "execution_count": 68,
      "outputs": [
        {
          "output_type": "execute_result",
          "data": {
            "text/plain": [
              "oo"
            ],
            "text/latex": "$\\displaystyle \\infty$"
          },
          "metadata": {},
          "execution_count": 68
        }
      ]
    },
    {
      "cell_type": "code",
      "execution_count": 65,
      "metadata": {
        "id": "kOjxUjuH7VRJ",
        "outputId": "d3f4d77b-1fca-46ce-8081-a0dceaa6f3f0",
        "colab": {
          "base_uri": "https://localhost:8080/",
          "height": 37
        }
      },
      "outputs": [
        {
          "output_type": "execute_result",
          "data": {
            "text/plain": [
              "sqrt(pi)"
            ],
            "text/latex": "$\\displaystyle \\sqrt{\\pi}$"
          },
          "metadata": {},
          "execution_count": 65
        }
      ],
      "source": [
        "integrate(exp(-x**2), (x, -oo, oo))"
      ]
    },
    {
      "cell_type": "markdown",
      "metadata": {
        "id": "XUGMnXe47VRM"
      },
      "source": [
        "`oo` es la notación en SymPy para inifinito."
      ]
    },
    {
      "cell_type": "markdown",
      "metadata": {
        "id": "vGgjPDDF7VRm"
      },
      "source": [
        "* http://sympy.org/en/index.html\n",
        "* https://github.com/sympy/sympy\n",
        "* http://live.sympy.org"
      ]
    },
    {
      "cell_type": "code",
      "source": [],
      "metadata": {
        "id": "yeqjGR9L_HEa"
      },
      "execution_count": 26,
      "outputs": []
    }
  ],
  "metadata": {
    "kernelspec": {
      "display_name": "Python 2",
      "language": "python",
      "name": "python2"
    },
    "language_info": {
      "codemirror_mode": {
        "name": "ipython",
        "version": 2
      },
      "file_extension": ".py",
      "mimetype": "text/x-python",
      "name": "python",
      "nbconvert_exporter": "python",
      "pygments_lexer": "ipython2",
      "version": "2.7.10"
    },
    "colab": {
      "provenance": []
    }
  },
  "nbformat": 4,
  "nbformat_minor": 0
}